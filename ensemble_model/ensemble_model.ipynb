{
 "cells": [
  {
   "cell_type": "markdown",
   "id": "2e4db1f0",
   "metadata": {},
   "source": [
    "#1. 数据准备\n",
    "\n",
    "###读取 CSV 文件：使用 pandas 读取存储预测值和评分的 CSV 文件。\n",
    "\n",
    "###合并数据：如果每个模型的预测结果在不同的表格中，你可以通过 ID 或样本的标识符将它们合并成一个大表格。"
   ]
  },
  {
   "cell_type": "code",
   "execution_count": 50,
   "id": "8f5a27c2",
   "metadata": {
    "scrolled": false
   },
   "outputs": [
    {
     "data": {
      "text/html": [
       "<div>\n",
       "<style scoped>\n",
       "    .dataframe tbody tr th:only-of-type {\n",
       "        vertical-align: middle;\n",
       "    }\n",
       "\n",
       "    .dataframe tbody tr th {\n",
       "        vertical-align: top;\n",
       "    }\n",
       "\n",
       "    .dataframe thead th {\n",
       "        text-align: right;\n",
       "    }\n",
       "</style>\n",
       "<table border=\"1\" class=\"dataframe\">\n",
       "  <thead>\n",
       "    <tr style=\"text-align: right;\">\n",
       "      <th></th>\n",
       "      <th>ID</th>\n",
       "      <th>Predicted_Label_model1</th>\n",
       "      <th>score_model1</th>\n",
       "      <th>Predicted_Label_model2</th>\n",
       "      <th>score_model2</th>\n",
       "      <th>Predicted_Label_model3</th>\n",
       "      <th>score_model3</th>\n",
       "      <th>True_Label</th>\n",
       "      <th>final_prediction_score</th>\n",
       "      <th>final_prediction</th>\n",
       "      <th>Unnamed: 10</th>\n",
       "    </tr>\n",
       "  </thead>\n",
       "  <tbody>\n",
       "    <tr>\n",
       "      <th>0</th>\n",
       "      <td>5220 ZHANG XI HUI.nii.gz</td>\n",
       "      <td>1</td>\n",
       "      <td>0.265349</td>\n",
       "      <td>1</td>\n",
       "      <td>0.994467</td>\n",
       "      <td>1</td>\n",
       "      <td>0.882103</td>\n",
       "      <td>1</td>\n",
       "      <td>0.865373</td>\n",
       "      <td>1</td>\n",
       "      <td>NaN</td>\n",
       "    </tr>\n",
       "    <tr>\n",
       "      <th>1</th>\n",
       "      <td>xiesiyuan-MR039125.nii.gz</td>\n",
       "      <td>1</td>\n",
       "      <td>0.323471</td>\n",
       "      <td>1</td>\n",
       "      <td>0.998751</td>\n",
       "      <td>1</td>\n",
       "      <td>0.850467</td>\n",
       "      <td>1</td>\n",
       "      <td>0.857081</td>\n",
       "      <td>1</td>\n",
       "      <td>NaN</td>\n",
       "    </tr>\n",
       "    <tr>\n",
       "      <th>2</th>\n",
       "      <td>6620Zhang Xing Hui.nii.gz</td>\n",
       "      <td>0</td>\n",
       "      <td>0.109538</td>\n",
       "      <td>1</td>\n",
       "      <td>0.998546</td>\n",
       "      <td>1</td>\n",
       "      <td>0.861099</td>\n",
       "      <td>1</td>\n",
       "      <td>0.840922</td>\n",
       "      <td>1</td>\n",
       "      <td>NaN</td>\n",
       "    </tr>\n",
       "    <tr>\n",
       "      <th>3</th>\n",
       "      <td>4848 GU YUN LI.nii.gz</td>\n",
       "      <td>0</td>\n",
       "      <td>0.064228</td>\n",
       "      <td>1</td>\n",
       "      <td>0.932053</td>\n",
       "      <td>1</td>\n",
       "      <td>0.918730</td>\n",
       "      <td>1</td>\n",
       "      <td>0.838609</td>\n",
       "      <td>1</td>\n",
       "      <td>NaN</td>\n",
       "    </tr>\n",
       "    <tr>\n",
       "      <th>4</th>\n",
       "      <td>6321Zhang Guang Mei.nii.gz</td>\n",
       "      <td>0</td>\n",
       "      <td>0.109095</td>\n",
       "      <td>1</td>\n",
       "      <td>0.989805</td>\n",
       "      <td>1</td>\n",
       "      <td>0.858777</td>\n",
       "      <td>1</td>\n",
       "      <td>0.836220</td>\n",
       "      <td>1</td>\n",
       "      <td>NaN</td>\n",
       "    </tr>\n",
       "    <tr>\n",
       "      <th>...</th>\n",
       "      <td>...</td>\n",
       "      <td>...</td>\n",
       "      <td>...</td>\n",
       "      <td>...</td>\n",
       "      <td>...</td>\n",
       "      <td>...</td>\n",
       "      <td>...</td>\n",
       "      <td>...</td>\n",
       "      <td>...</td>\n",
       "      <td>...</td>\n",
       "      <td>...</td>\n",
       "    </tr>\n",
       "    <tr>\n",
       "      <th>183</th>\n",
       "      <td>6285Zhou Ying.nii.gz</td>\n",
       "      <td>0</td>\n",
       "      <td>0.069827</td>\n",
       "      <td>0</td>\n",
       "      <td>0.045154</td>\n",
       "      <td>0</td>\n",
       "      <td>0.021403</td>\n",
       "      <td>0</td>\n",
       "      <td>0.035746</td>\n",
       "      <td>0</td>\n",
       "      <td>NaN</td>\n",
       "    </tr>\n",
       "    <tr>\n",
       "      <th>184</th>\n",
       "      <td>6561Zhang Zhong Zhen.nii.gz</td>\n",
       "      <td>0</td>\n",
       "      <td>0.085846</td>\n",
       "      <td>0</td>\n",
       "      <td>0.043939</td>\n",
       "      <td>0</td>\n",
       "      <td>0.010223</td>\n",
       "      <td>0</td>\n",
       "      <td>0.031272</td>\n",
       "      <td>0</td>\n",
       "      <td>NaN</td>\n",
       "    </tr>\n",
       "    <tr>\n",
       "      <th>185</th>\n",
       "      <td>6215Chen Yong Fen.nii.gz</td>\n",
       "      <td>0</td>\n",
       "      <td>0.095251</td>\n",
       "      <td>0</td>\n",
       "      <td>0.030498</td>\n",
       "      <td>0</td>\n",
       "      <td>0.015576</td>\n",
       "      <td>0</td>\n",
       "      <td>0.029512</td>\n",
       "      <td>0</td>\n",
       "      <td>NaN</td>\n",
       "    </tr>\n",
       "    <tr>\n",
       "      <th>186</th>\n",
       "      <td>6776Yuan Zi Ran.nii.gz</td>\n",
       "      <td>0</td>\n",
       "      <td>0.067034</td>\n",
       "      <td>0</td>\n",
       "      <td>0.043921</td>\n",
       "      <td>0</td>\n",
       "      <td>0.008061</td>\n",
       "      <td>0</td>\n",
       "      <td>0.028302</td>\n",
       "      <td>0</td>\n",
       "      <td>NaN</td>\n",
       "    </tr>\n",
       "    <tr>\n",
       "      <th>187</th>\n",
       "      <td>3821 WANG YAN HONG.nii.gz</td>\n",
       "      <td>0</td>\n",
       "      <td>0.099250</td>\n",
       "      <td>0</td>\n",
       "      <td>0.035838</td>\n",
       "      <td>0</td>\n",
       "      <td>0.005732</td>\n",
       "      <td>0</td>\n",
       "      <td>0.027126</td>\n",
       "      <td>0</td>\n",
       "      <td>NaN</td>\n",
       "    </tr>\n",
       "  </tbody>\n",
       "</table>\n",
       "<p>188 rows × 11 columns</p>\n",
       "</div>"
      ],
      "text/plain": [
       "                              ID  Predicted_Label_model1  score_model1  \\\n",
       "0       5220 ZHANG XI HUI.nii.gz                       1      0.265349   \n",
       "1      xiesiyuan-MR039125.nii.gz                       1      0.323471   \n",
       "2      6620Zhang Xing Hui.nii.gz                       0      0.109538   \n",
       "3          4848 GU YUN LI.nii.gz                       0      0.064228   \n",
       "4     6321Zhang Guang Mei.nii.gz                       0      0.109095   \n",
       "..                           ...                     ...           ...   \n",
       "183         6285Zhou Ying.nii.gz                       0      0.069827   \n",
       "184  6561Zhang Zhong Zhen.nii.gz                       0      0.085846   \n",
       "185     6215Chen Yong Fen.nii.gz                       0      0.095251   \n",
       "186       6776Yuan Zi Ran.nii.gz                       0      0.067034   \n",
       "187    3821 WANG YAN HONG.nii.gz                       0      0.099250   \n",
       "\n",
       "     Predicted_Label_model2  score_model2  Predicted_Label_model3  \\\n",
       "0                         1      0.994467                       1   \n",
       "1                         1      0.998751                       1   \n",
       "2                         1      0.998546                       1   \n",
       "3                         1      0.932053                       1   \n",
       "4                         1      0.989805                       1   \n",
       "..                      ...           ...                     ...   \n",
       "183                       0      0.045154                       0   \n",
       "184                       0      0.043939                       0   \n",
       "185                       0      0.030498                       0   \n",
       "186                       0      0.043921                       0   \n",
       "187                       0      0.035838                       0   \n",
       "\n",
       "     score_model3  True_Label  final_prediction_score  final_prediction  \\\n",
       "0        0.882103           1                0.865373                 1   \n",
       "1        0.850467           1                0.857081                 1   \n",
       "2        0.861099           1                0.840922                 1   \n",
       "3        0.918730           1                0.838609                 1   \n",
       "4        0.858777           1                0.836220                 1   \n",
       "..            ...         ...                     ...               ...   \n",
       "183      0.021403           0                0.035746                 0   \n",
       "184      0.010223           0                0.031272                 0   \n",
       "185      0.015576           0                0.029512                 0   \n",
       "186      0.008061           0                0.028302                 0   \n",
       "187      0.005732           0                0.027126                 0   \n",
       "\n",
       "     Unnamed: 10  \n",
       "0            NaN  \n",
       "1            NaN  \n",
       "2            NaN  \n",
       "3            NaN  \n",
       "4            NaN  \n",
       "..           ...  \n",
       "183          NaN  \n",
       "184          NaN  \n",
       "185          NaN  \n",
       "186          NaN  \n",
       "187          NaN  \n",
       "\n",
       "[188 rows x 11 columns]"
      ]
     },
     "execution_count": 50,
     "metadata": {},
     "output_type": "execute_result"
    }
   ],
   "source": [
    "import pandas as pd\n",
    "models_preds = pd.read_csv('val/model_preds_merge_DL2_800_222.csv')\n",
    "models_preds"
   ]
  },
  {
   "cell_type": "code",
   "execution_count": 51,
   "id": "a6851fc2",
   "metadata": {},
   "outputs": [
    {
     "name": "stdout",
     "output_type": "stream",
     "text": [
      "{'model1': 0.1, 'model2': 0.4, 'model3': 0.5}\n"
     ]
    }
   ],
   "source": [
    "\n",
    "# print(models_preds)\n",
    "# 读取模型的性能指标\n",
    "model_metrics = pd.read_csv('pred_csv/model_metrics.csv')\n",
    "\n",
    "# 假设模型名称和相应的权重存储在一个字典中\n",
    "weights = {'model1': 0.1, 'model2': 0.4, 'model3': 0.5}\n",
    "print(weights)\n",
    "\n",
    "\n",
    "# 计算加权投票\n",
    "def weighted_voting(row):\n",
    "    total_weight = sum(weights.values())\n",
    "    weighted_scores = {}\n",
    "    \n",
    "    for model, weight in weights.items():\n",
    "        weighted_scores[model] = row[f'score_{model}'] * weight\n",
    "\n",
    "    # 计算加权总分\n",
    "    weighted_sum = sum(weighted_scores.values())\n",
    "    return weighted_sum\n",
    "\n",
    "# 应用加权投票\n",
    "models_preds['final_prediction_score'] = models_preds.apply(weighted_voting, axis=1)\n"
   ]
  },
  {
   "cell_type": "code",
   "execution_count": 52,
   "id": "4d9118fc",
   "metadata": {},
   "outputs": [],
   "source": [
    "models_preds.to_csv('val/model_preds_final_pred.csv', index=False)"
   ]
  },
  {
   "cell_type": "markdown",
   "id": "99d8481a",
   "metadata": {},
   "source": [
    "2. 加权投票\n",
    "获取模型的权重：从包含模型 AUC 和准确率（acc）的表格中提取权重。可以根据 AUC 或准确率来决定权重，例如，使用 AUC 作为权重。\n",
    "计算加权投票：对每个样本的预测进行加权，选择加权和最高的类作为最终预测。"
   ]
  },
  {
   "cell_type": "code",
   "execution_count": 53,
   "id": "e103f118",
   "metadata": {},
   "outputs": [
    {
     "name": "stdout",
     "output_type": "stream",
     "text": [
      "0.9305521472392638\n",
      "Optimal Threshold: 0.38225085270000003\n"
     ]
    }
   ],
   "source": [
    "from sklearn.metrics import roc_curve, auc\n",
    "import numpy as np\n",
    "# 假设 y_true 是真实标签，y_scores 是模型的预测分数\n",
    "y_true = models_preds['True_Label']\n",
    "# y_scores = models_preds[[f'score_{model}' for model in weights.keys()]].mean(axis=1)  # 取平均作为预测分数\n",
    "y_scores = models_preds['final_prediction_score']\n",
    "# 计算 ROC 曲线\n",
    "fpr, tpr, thresholds = roc_curve(y_true, y_scores)\n",
    "\n",
    "# 计算 AUC\n",
    "roc_auc = auc(fpr, tpr)\n",
    "print(roc_auc)\n",
    "\n",
    "# 选择最佳阈值（例如，TPR 和 FPR 相等的点）\n",
    "optimal_idx = np.argmax(tpr - fpr)\n",
    "optimal_threshold = thresholds[optimal_idx]\n",
    "\n",
    "print(f'Optimal Threshold: {optimal_threshold}')\n"
   ]
  },
  {
   "cell_type": "code",
   "execution_count": 54,
   "id": "2be86075",
   "metadata": {},
   "outputs": [],
   "source": [
    "#通过阈值筛选后，保存预测是label值为final_prediction列\n",
    "import pandas as pd\n",
    "models_preds = pd.read_csv('val/model_preds_final_pred.csv')"
   ]
  },
  {
   "cell_type": "code",
   "execution_count": 55,
   "id": "ea24def2",
   "metadata": {},
   "outputs": [
    {
     "name": "stdout",
     "output_type": "stream",
     "text": [
      "Final Model Accuracy: 0.8723404255319149\n",
      "Final Model AUC: 0.9305521472392638\n"
     ]
    }
   ],
   "source": [
    "#使用测试集的真实标签评估最终模型的性能，如计算 AUC 和准确率\n",
    "from sklearn.metrics import accuracy_score, roc_auc_score\n",
    "\n",
    "y_true= models_preds['True_Label']\n",
    "y_pred=models_preds['final_prediction']\n",
    "y_scores = models_preds['final_prediction_score']\n",
    "# 假设真实标签存储在 'true_labels' 列中\n",
    "accuracy = accuracy_score(y_true, y_pred)\n",
    "auc = roc_auc_score(y_true, y_scores, average='macro', multi_class='ovr')\n",
    "\n",
    "print(f'Final Model Accuracy: {accuracy}')\n",
    "print(f'Final Model AUC: {auc}')\n"
   ]
  },
  {
   "cell_type": "code",
   "execution_count": 56,
   "id": "575f0366",
   "metadata": {
    "scrolled": false
   },
   "outputs": [
    {
     "data": {
      "image/png": "[encoded data removed]",
      "text/plain": [
       "<Figure size 720x576 with 1 Axes>"
      ]
     },
     "metadata": {
      "needs_background": "light"
     },
     "output_type": "display_data"
    }
   ],
   "source": [
    "import onekey_algo.custom.components as okcomp\n",
    "import matplotlib.pyplot as plt\n",
    "okcomp.comp1.draw_roc_test_only(y_true, y_scores, title='Ensemble Model')\n",
    "plt.savefig(f'img/ensemble_roc.tif', bbox_inches = 'tight')"
   ]
  },
  {
   "cell_type": "code",
   "execution_count": 57,
   "id": "b78d9552",
   "metadata": {},
   "outputs": [
    {
     "data": {
      "image/png": "[encoded data removed]",
      "text/plain": [
       "<Figure size 266.4x216 with 2 Axes>"
      ]
     },
     "metadata": {
      "needs_background": "light"
     },
     "output_type": "display_data"
    }
   ],
   "source": [
    "cm = okcomp.comp1.calc_confusion_matrix(y_pred,y_true,class_mapping={1:'Positive', 0:'Negative'})\n",
    "plt.figure(figsize=(3.7,3))\n",
    "plt.title(f'Ensemble Model')\n",
    "okcomp.comp1.draw_matrix(cm, norm=True, annot=True, cmap='Blues')\n",
    "plt.savefig(f'img/Ensemble-CM.tif', bbox_inches = 'tight',dpi=300)"
   ]
  },
  {
   "cell_type": "code",
   "execution_count": 58,
   "id": "e886fa83",
   "metadata": {},
   "outputs": [
    {
     "data": {
      "image/png": "[encoded data removed]",
      "text/plain": [
       "<Figure size 266.4x216 with 2 Axes>"
      ]
     },
     "metadata": {
      "needs_background": "light"
     },
     "output_type": "display_data"
    }
   ],
   "source": [
    "cm = okcomp.comp1.calc_confusion_matrix(y_pred,y_true,class_mapping={1:'Positive', 0:'Negative'})\n",
    "plt.figure(figsize=(3.7,3))\n",
    "plt.title(f'Ensemble Model')\n",
    "okcomp.comp1.draw_matrix(cm, norm=False, annot=True, cmap='Blues')\n",
    "plt.savefig(f'img/Ensemble-CM1.tif', bbox_inches = 'tight',dpi=300)"
   ]
  },
  {
   "cell_type": "code",
   "execution_count": 59,
   "id": "ef4ef9d8",
   "metadata": {},
   "outputs": [
    {
     "name": "stdout",
     "output_type": "stream",
     "text": [
      "Accuracy: 0.8723404255319149\n"
     ]
    }
   ],
   "source": [
    "from sklearn.metrics import accuracy_score\n",
    "accuracy = accuracy_score(y_true, y_pred)\n",
    "print('Accuracy:', accuracy)"
   ]
  },
  {
   "cell_type": "code",
   "execution_count": null,
   "id": "b93bc67c",
   "metadata": {},
   "outputs": [],
   "source": []
  },
  {
   "cell_type": "code",
   "execution_count": null,
   "id": "3a2592c0",
   "metadata": {},
   "outputs": [],
   "source": []
  },
  {
   "cell_type": "code",
   "execution_count": 1,
   "id": "8929d54c",
   "metadata": {},
   "outputs": [],
   "source": [
    "import pandas as pd\n",
    "models_preds = pd.read_csv('yz2024/model_preds_merge.csv')"
   ]
  },
  {
   "cell_type": "code",
   "execution_count": 2,
   "id": "cc05e911",
   "metadata": {},
   "outputs": [
    {
     "name": "stdout",
     "output_type": "stream",
     "text": [
      "{'model1': 0.1, 'model2': 0.4, 'model3': 0.5}\n"
     ]
    }
   ],
   "source": [
    "# print(models_preds)\n",
    "# 读取模型的性能指标\n",
    "#model_metrics = pd.read_csv('pred_csv/model_metrics.csv')\n",
    "\n",
    "# 假设模型名称和相应的权重存储在一个字典中\n",
    "weights = {'model1':0.1, 'model2': 0.4, 'model3': 0.5}\n",
    "print(weights)\n",
    "\n",
    "\n",
    "# 计算加权投票\n",
    "def weighted_voting(row):\n",
    "    total_weight = sum(weights.values())\n",
    "    weighted_scores = {}\n",
    "    \n",
    "    for model, weight in weights.items():\n",
    "        weighted_scores[model] = row[f'score_{model}'] * weight\n",
    "\n",
    "    # 计算加权总分\n",
    "    weighted_sum = sum(weighted_scores.values())\n",
    "    return weighted_sum\n",
    "\n",
    "# 应用加权投票\n",
    "models_preds['final_prediction_score'] = models_preds.apply(weighted_voting, axis=1)"
   ]
  },
  {
   "cell_type": "code",
   "execution_count": 3,
   "id": "28415981",
   "metadata": {},
   "outputs": [],
   "source": [
    "models_preds.to_csv('yz2024/model_preds_final_pred.csv', index=False)"
   ]
  },
  {
   "cell_type": "code",
   "execution_count": 4,
   "id": "125589c6",
   "metadata": {},
   "outputs": [
    {
     "name": "stdout",
     "output_type": "stream",
     "text": [
      "Optimal Threshold: 0.38225085270000003\n"
     ]
    }
   ],
   "source": [
    "optimal_threshold = 0.38225085270000003\n",
    "print(f'Optimal Threshold: {optimal_threshold}')\n"
   ]
  },
  {
   "cell_type": "code",
   "execution_count": 5,
   "id": "1d3ccadd",
   "metadata": {},
   "outputs": [],
   "source": [
    "#通过阈值筛选后，保存预测是label值为final_prediction列\n",
    "import pandas as pd\n",
    "models_preds = pd.read_csv('yz2024/model_preds_final_pred.csv')"
   ]
  },
  {
   "cell_type": "code",
   "execution_count": 6,
   "id": "5c8e9c04",
   "metadata": {},
   "outputs": [
    {
     "name": "stdout",
     "output_type": "stream",
     "text": [
      "Final Model Accuracy: 0.8208955223880597\n",
      "Final Model AUC: 0.8606557377049181\n"
     ]
    }
   ],
   "source": [
    "#使用测试集的真实标签评估最终模型的性能，如计算 AUC 和准确率\n",
    "from sklearn.metrics import accuracy_score, roc_auc_score\n",
    "\n",
    "y_true= models_preds['True_label']\n",
    "y_pred=models_preds['final_prediction']\n",
    "y_scores = models_preds['final_prediction_score']\n",
    "# 假设真实标签存储在 'true_labels' 列中\n",
    "accuracy = accuracy_score(y_true, y_pred)\n",
    "auc = roc_auc_score(y_true, y_scores, average='macro', multi_class='ovr')\n",
    "\n",
    "print(f'Final Model Accuracy: {accuracy}')\n",
    "print(f'Final Model AUC: {auc}')"
   ]
  },
  {
   "cell_type": "code",
   "execution_count": 7,
   "id": "fb8c9f94",
   "metadata": {},
   "outputs": [
    {
     "data": {
      "image/png": "[encoded data removed]",
      "text/plain": [
       "<Figure size 720x576 with 1 Axes>"
      ]
     },
     "metadata": {
      "needs_background": "light"
     },
     "output_type": "display_data"
    }
   ],
   "source": [
    "import onekey_algo.custom.components as okcomp\n",
    "import matplotlib.pyplot as plt\n",
    "okcomp.comp1.draw_roc_test_only(y_true, y_scores, title='Ensemble Model')\n",
    "plt.savefig(f'img/ensemble_roc.tif', bbox_inches = 'tight')"
   ]
  },
  {
   "cell_type": "code",
   "execution_count": 8,
   "id": "992f2ff1",
   "metadata": {},
   "outputs": [
    {
     "data": {
      "image/png": "[encoded data removed]",
      "text/plain": [
       "<Figure size 266.4x216 with 2 Axes>"
      ]
     },
     "metadata": {
      "needs_background": "light"
     },
     "output_type": "display_data"
    }
   ],
   "source": [
    "cm = okcomp.comp1.calc_confusion_matrix(y_pred,y_true,class_mapping={1:'Positive', 0:'Negative'})\n",
    "plt.figure(figsize=(3.7,3))\n",
    "plt.title(f'Ensemble Model')\n",
    "okcomp.comp1.draw_matrix(cm, norm=True, annot=True, cmap='Blues')\n",
    "plt.savefig(f'img/Ensemble-CM.tif', bbox_inches = 'tight',dpi=300)"
   ]
  },
  {
   "cell_type": "code",
   "execution_count": 9,
   "id": "c6f572df",
   "metadata": {},
   "outputs": [
    {
     "data": {
      "image/png": "[encoded data removed]",
      "text/plain": [
       "<Figure size 266.4x216 with 2 Axes>"
      ]
     },
     "metadata": {
      "needs_background": "light"
     },
     "output_type": "display_data"
    }
   ],
   "source": [
    "cm = okcomp.comp1.calc_confusion_matrix(y_pred,y_true,class_mapping={1:'Positive', 0:'Negative'})\n",
    "plt.figure(figsize=(3.7,3))\n",
    "plt.title(f'Ensemble Model')\n",
    "okcomp.comp1.draw_matrix(cm, norm=False, annot=True, cmap='Blues')\n",
    "plt.savefig(f'img/Ensemble-CM1.tif', bbox_inches = 'tight',dpi=300)"
   ]
  },
  {
   "cell_type": "code",
   "execution_count": null,
   "id": "53d17780",
   "metadata": {},
   "outputs": [],
   "source": []
  },
  {
   "cell_type": "code",
   "execution_count": null,
   "id": "a3d7f999",
   "metadata": {},
   "outputs": [],
   "source": []
  },
  {
   "cell_type": "code",
   "execution_count": 28,
   "id": "60a6dbac",
   "metadata": {},
   "outputs": [],
   "source": [
    "import pandas as pd\n",
    "models_preds = pd.read_csv('st/model_preds_merge_111.csv')"
   ]
  },
  {
   "cell_type": "code",
   "execution_count": 29,
   "id": "67cbe5c7",
   "metadata": {},
   "outputs": [
    {
     "name": "stdout",
     "output_type": "stream",
     "text": [
      "{'model1': 0.1, 'model2': 0.4, 'model3': 0.5}\n"
     ]
    }
   ],
   "source": [
    "# print(models_preds)\n",
    "# 读取模型的性能指标\n",
    "#model_metrics = pd.read_csv('pred_csv/model_metrics.csv')\n",
    "\n",
    "# 假设模型名称和相应的权重存储在一个字典中\n",
    "weights = {'model1': 0.1, 'model2': 0.4, 'model3': 0.5}\n",
    "print(weights)\n",
    "\n",
    "\n",
    "# 计算加权投票\n",
    "def weighted_voting(row):\n",
    "    total_weight = sum(weights.values())\n",
    "    weighted_scores = {}\n",
    "    \n",
    "    for model, weight in weights.items():\n",
    "        weighted_scores[model] = row[f'score_{model}'] * weight\n",
    "\n",
    "    # 计算加权总分\n",
    "    weighted_sum = sum(weighted_scores.values())\n",
    "    return weighted_sum\n",
    "\n",
    "# 应用加权投票\n",
    "models_preds['final_prediction_score'] = models_preds.apply(weighted_voting, axis=1)"
   ]
  },
  {
   "cell_type": "code",
   "execution_count": 30,
   "id": "5e279395",
   "metadata": {},
   "outputs": [],
   "source": [
    "models_preds.to_csv('st/model_preds_final_pred.csv', index=False)"
   ]
  },
  {
   "cell_type": "code",
   "execution_count": 13,
   "id": "72b7ca62",
   "metadata": {},
   "outputs": [],
   "source": [
    "optimal_threshold = 0.38225085270000003"
   ]
  },
  {
   "cell_type": "code",
   "execution_count": 36,
   "id": "33338c5c",
   "metadata": {},
   "outputs": [],
   "source": [
    "#通过阈值筛选后，保存预测是label值为final_prediction列\n",
    "import pandas as pd\n",
    "models_preds = pd.read_csv('st/model_preds_final_pred.csv')"
   ]
  },
  {
   "cell_type": "code",
   "execution_count": 37,
   "id": "3515f263",
   "metadata": {},
   "outputs": [
    {
     "name": "stdout",
     "output_type": "stream",
     "text": [
      "Final Model Accuracy: 0.7393617021276596\n",
      "Final Model AUC: 0.7617468214483142\n"
     ]
    }
   ],
   "source": [
    "#使用测试集的真实标签评估最终模型的性能，如计算 AUC 和准确率\n",
    "from sklearn.metrics import accuracy_score, roc_auc_score\n",
    "\n",
    "y_true= models_preds['True_label']\n",
    "y_pred=models_preds['final_prediction']\n",
    "y_scores = models_preds['final_prediction_score']\n",
    "# 假设真实标签存储在 'true_labels' 列中\n",
    "accuracy = accuracy_score(y_true, y_pred)\n",
    "auc = roc_auc_score(y_true, y_scores, average='macro', multi_class='ovr')\n",
    "\n",
    "print(f'Final Model Accuracy: {accuracy}')\n",
    "print(f'Final Model AUC: {auc}')"
   ]
  },
  {
   "cell_type": "code",
   "execution_count": 38,
   "id": "eec87083",
   "metadata": {},
   "outputs": [
    {
     "data": {
      "image/png": "[encoded data removed]",
      "text/plain": [
       "<Figure size 720x576 with 1 Axes>"
      ]
     },
     "metadata": {
      "needs_background": "light"
     },
     "output_type": "display_data"
    }
   ],
   "source": [
    "import onekey_algo.custom.components as okcomp\n",
    "import matplotlib.pyplot as plt\n",
    "okcomp.comp1.draw_roc_test_only(y_true, y_scores, title='Ensemble Model')\n",
    "plt.savefig(f'st/ensemble_roc_0107.tif', bbox_inches = 'tight')"
   ]
  },
  {
   "cell_type": "code",
   "execution_count": 39,
   "id": "7acc789a",
   "metadata": {},
   "outputs": [
    {
     "data": {
      "image/png": "[encoded data removed]",
      "text/plain": [
       "<Figure size 266.4x216 with 2 Axes>"
      ]
     },
     "metadata": {
      "needs_background": "light"
     },
     "output_type": "display_data"
    }
   ],
   "source": [
    "cm = okcomp.comp1.calc_confusion_matrix(y_pred,y_true,class_mapping={1:'Positive', 0:'Negative'})\n",
    "plt.figure(figsize=(3.7,3))\n",
    "plt.title(f'Ensemble Model')\n",
    "okcomp.comp1.draw_matrix(cm, norm=True, annot=True, cmap='Blues')\n",
    "plt.savefig(f'st/Ensemble-CM.tif', bbox_inches = 'tight',dpi=300)"
   ]
  },
  {
   "cell_type": "code",
   "execution_count": 40,
   "id": "035645fb",
   "metadata": {
    "scrolled": true
   },
   "outputs": [
    {
     "data": {
      "image/png": "[encoded data removed]",
      "text/plain": [
       "<Figure size 266.4x216 with 2 Axes>"
      ]
     },
     "metadata": {
      "needs_background": "light"
     },
     "output_type": "display_data"
    }
   ],
   "source": [
    "cm = okcomp.comp1.calc_confusion_matrix(y_pred,y_true,class_mapping={1:'Positive', 0:'Negative'})\n",
    "plt.figure(figsize=(3.7,3))\n",
    "plt.title(f'Ensemble Model')\n",
    "okcomp.comp1.draw_matrix(cm, norm=False, annot=True, cmap='Blues')\n",
    "plt.savefig(f'st/Ensemble-CM1.tif', bbox_inches = 'tight',dpi=300)"
   ]
  },
  {
   "cell_type": "code",
   "execution_count": null,
   "id": "de0c596b",
   "metadata": {},
   "outputs": [],
   "source": []
  },
  {
   "cell_type": "code",
   "execution_count": null,
   "id": "87ca7c63",
   "metadata": {},
   "outputs": [],
   "source": []
  },
  {
   "cell_type": "code",
   "execution_count": null,
   "id": "c6e5b297",
   "metadata": {},
   "outputs": [],
   "source": [
    "import pandas as pd\n",
    "models_preds = pd.read_csv('st/model_preds_merge_111.csv')"
   ]
  },
  {
   "cell_type": "code",
   "execution_count": null,
   "id": "f66a78d2",
   "metadata": {},
   "outputs": [],
   "source": [
    "# 假设模型名称和相应的权重存储在一个字典中\n",
    "weights = {'model1': 0.1, 'model2': 0.4, 'model3': 0.5}\n",
    "print(weights)\n",
    "\n",
    "\n",
    "# 计算加权投票\n",
    "def weighted_voting(row):\n",
    "    total_weight = sum(weights.values())\n",
    "    weighted_scores = {}\n",
    "    \n",
    "    for model, weight in weights.items():\n",
    "        weighted_scores[model] = row[f'score_{model}'] * weight\n",
    "\n",
    "    # 计算加权总分\n",
    "    weighted_sum = sum(weighted_scores.values())\n",
    "    return weighted_sum\n",
    "\n",
    "# 应用加权投票\n",
    "models_preds['final_prediction_score'] = models_preds.apply(weighted_voting, axis=1)"
   ]
  },
  {
   "cell_type": "code",
   "execution_count": null,
   "id": "9b95cd09",
   "metadata": {},
   "outputs": [],
   "source": [
    "models_preds.to_csv('st/model_preds_final_pred.csv', index=False)"
   ]
  },
  {
   "cell_type": "code",
   "execution_count": null,
   "id": "1841a285",
   "metadata": {},
   "outputs": [],
   "source": [
    "optimal_threshold = 0.38225085270000003"
   ]
  },
  {
   "cell_type": "code",
   "execution_count": null,
   "id": "c17c9753",
   "metadata": {},
   "outputs": [],
   "source": [
    "#通过阈值筛选后，保存预测是label值为final_prediction列\n",
    "import pandas as pd\n",
    "models_preds = pd.read_csv('st/model_preds_final_pred.csv')"
   ]
  },
  {
   "cell_type": "code",
   "execution_count": null,
   "id": "6efd5fbd",
   "metadata": {},
   "outputs": [],
   "source": []
  },
  {
   "cell_type": "code",
   "execution_count": null,
   "id": "737707b6",
   "metadata": {},
   "outputs": [],
   "source": []
  },
  {
   "cell_type": "code",
   "execution_count": null,
   "id": "2f40110c",
   "metadata": {},
   "outputs": [],
   "source": []
  },
  {
   "cell_type": "code",
   "execution_count": null,
   "id": "7fed4025",
   "metadata": {},
   "outputs": [],
   "source": []
  },
  {
   "cell_type": "code",
   "execution_count": null,
   "id": "8cc8445a",
   "metadata": {},
   "outputs": [],
   "source": []
  },
  {
   "cell_type": "code",
   "execution_count": null,
   "id": "30fbeaac",
   "metadata": {},
   "outputs": [],
   "source": []
  },
  {
   "cell_type": "code",
   "execution_count": null,
   "id": "4e3fdc94",
   "metadata": {},
   "outputs": [],
   "source": []
  },
  {
   "cell_type": "code",
   "execution_count": null,
   "id": "7aae570b",
   "metadata": {},
   "outputs": [],
   "source": []
  },
  {
   "cell_type": "code",
   "execution_count": null,
   "id": "aa108519",
   "metadata": {},
   "outputs": [],
   "source": []
  },
  {
   "cell_type": "code",
   "execution_count": null,
   "id": "085505fd",
   "metadata": {},
   "outputs": [],
   "source": []
  },
  {
   "cell_type": "code",
   "execution_count": null,
   "id": "56539e5a",
   "metadata": {},
   "outputs": [],
   "source": []
  },
  {
   "cell_type": "markdown",
   "id": "f3e1deb6",
   "metadata": {},
   "source": [
    "## 通过Venn图展示每个模型预测错误的样本交集情况"
   ]
  },
  {
   "cell_type": "code",
   "execution_count": 41,
   "id": "3aa36eb8",
   "metadata": {},
   "outputs": [],
   "source": [
    "import numpy as np\n",
    "import matplotlib.pyplot as plt\n",
    "# from matplotlib_venn import venn3"
   ]
  },
  {
   "cell_type": "code",
   "execution_count": 42,
   "id": "9d3b3b24",
   "metadata": {},
   "outputs": [
    {
     "data": {
      "text/html": [
       "<div>\n",
       "<style scoped>\n",
       "    .dataframe tbody tr th:only-of-type {\n",
       "        vertical-align: middle;\n",
       "    }\n",
       "\n",
       "    .dataframe tbody tr th {\n",
       "        vertical-align: top;\n",
       "    }\n",
       "\n",
       "    .dataframe thead th {\n",
       "        text-align: right;\n",
       "    }\n",
       "</style>\n",
       "<table border=\"1\" class=\"dataframe\">\n",
       "  <thead>\n",
       "    <tr style=\"text-align: right;\">\n",
       "      <th></th>\n",
       "      <th>ID</th>\n",
       "      <th>Predicted_Label_model1</th>\n",
       "      <th>score_model1</th>\n",
       "      <th>Predicted_Label_model2</th>\n",
       "      <th>score_model2</th>\n",
       "      <th>Predicted_Label_model3</th>\n",
       "      <th>score_model3</th>\n",
       "      <th>True_Label</th>\n",
       "      <th>final_prediction_score</th>\n",
       "      <th>final_prediction</th>\n",
       "    </tr>\n",
       "  </thead>\n",
       "  <tbody>\n",
       "    <tr>\n",
       "      <th>0</th>\n",
       "      <td>5220 ZHANG XI HUI.nii.gz</td>\n",
       "      <td>1</td>\n",
       "      <td>0.265349</td>\n",
       "      <td>1</td>\n",
       "      <td>0.994467</td>\n",
       "      <td>1</td>\n",
       "      <td>0.882103</td>\n",
       "      <td>1</td>\n",
       "      <td>0.865373</td>\n",
       "      <td>1</td>\n",
       "    </tr>\n",
       "    <tr>\n",
       "      <th>1</th>\n",
       "      <td>xiesiyuan-MR039125.nii.gz</td>\n",
       "      <td>1</td>\n",
       "      <td>0.323471</td>\n",
       "      <td>1</td>\n",
       "      <td>0.998751</td>\n",
       "      <td>1</td>\n",
       "      <td>0.850467</td>\n",
       "      <td>1</td>\n",
       "      <td>0.857081</td>\n",
       "      <td>1</td>\n",
       "    </tr>\n",
       "    <tr>\n",
       "      <th>2</th>\n",
       "      <td>6620Zhang Xing Hui.nii.gz</td>\n",
       "      <td>0</td>\n",
       "      <td>0.109538</td>\n",
       "      <td>1</td>\n",
       "      <td>0.998546</td>\n",
       "      <td>1</td>\n",
       "      <td>0.861099</td>\n",
       "      <td>1</td>\n",
       "      <td>0.840922</td>\n",
       "      <td>1</td>\n",
       "    </tr>\n",
       "    <tr>\n",
       "      <th>3</th>\n",
       "      <td>4848 GU YUN LI.nii.gz</td>\n",
       "      <td>0</td>\n",
       "      <td>0.064228</td>\n",
       "      <td>1</td>\n",
       "      <td>0.932053</td>\n",
       "      <td>1</td>\n",
       "      <td>0.918730</td>\n",
       "      <td>1</td>\n",
       "      <td>0.838609</td>\n",
       "      <td>1</td>\n",
       "    </tr>\n",
       "    <tr>\n",
       "      <th>4</th>\n",
       "      <td>6321Zhang Guang Mei.nii.gz</td>\n",
       "      <td>0</td>\n",
       "      <td>0.109095</td>\n",
       "      <td>1</td>\n",
       "      <td>0.989805</td>\n",
       "      <td>1</td>\n",
       "      <td>0.858777</td>\n",
       "      <td>1</td>\n",
       "      <td>0.836220</td>\n",
       "      <td>1</td>\n",
       "    </tr>\n",
       "    <tr>\n",
       "      <th>...</th>\n",
       "      <td>...</td>\n",
       "      <td>...</td>\n",
       "      <td>...</td>\n",
       "      <td>...</td>\n",
       "      <td>...</td>\n",
       "      <td>...</td>\n",
       "      <td>...</td>\n",
       "      <td>...</td>\n",
       "      <td>...</td>\n",
       "      <td>...</td>\n",
       "    </tr>\n",
       "    <tr>\n",
       "      <th>183</th>\n",
       "      <td>6285Zhou Ying.nii.gz</td>\n",
       "      <td>0</td>\n",
       "      <td>0.069827</td>\n",
       "      <td>0</td>\n",
       "      <td>0.045154</td>\n",
       "      <td>0</td>\n",
       "      <td>0.021403</td>\n",
       "      <td>0</td>\n",
       "      <td>0.035746</td>\n",
       "      <td>0</td>\n",
       "    </tr>\n",
       "    <tr>\n",
       "      <th>184</th>\n",
       "      <td>6561Zhang Zhong Zhen.nii.gz</td>\n",
       "      <td>0</td>\n",
       "      <td>0.085846</td>\n",
       "      <td>0</td>\n",
       "      <td>0.043939</td>\n",
       "      <td>0</td>\n",
       "      <td>0.010223</td>\n",
       "      <td>0</td>\n",
       "      <td>0.031272</td>\n",
       "      <td>0</td>\n",
       "    </tr>\n",
       "    <tr>\n",
       "      <th>185</th>\n",
       "      <td>6215Chen Yong Fen.nii.gz</td>\n",
       "      <td>0</td>\n",
       "      <td>0.095251</td>\n",
       "      <td>0</td>\n",
       "      <td>0.030498</td>\n",
       "      <td>0</td>\n",
       "      <td>0.015576</td>\n",
       "      <td>0</td>\n",
       "      <td>0.029512</td>\n",
       "      <td>0</td>\n",
       "    </tr>\n",
       "    <tr>\n",
       "      <th>186</th>\n",
       "      <td>6776Yuan Zi Ran.nii.gz</td>\n",
       "      <td>0</td>\n",
       "      <td>0.067034</td>\n",
       "      <td>0</td>\n",
       "      <td>0.043921</td>\n",
       "      <td>0</td>\n",
       "      <td>0.008061</td>\n",
       "      <td>0</td>\n",
       "      <td>0.028302</td>\n",
       "      <td>0</td>\n",
       "    </tr>\n",
       "    <tr>\n",
       "      <th>187</th>\n",
       "      <td>3821 WANG YAN HONG.nii.gz</td>\n",
       "      <td>0</td>\n",
       "      <td>0.099250</td>\n",
       "      <td>0</td>\n",
       "      <td>0.035838</td>\n",
       "      <td>0</td>\n",
       "      <td>0.005732</td>\n",
       "      <td>0</td>\n",
       "      <td>0.027126</td>\n",
       "      <td>0</td>\n",
       "    </tr>\n",
       "  </tbody>\n",
       "</table>\n",
       "<p>188 rows × 10 columns</p>\n",
       "</div>"
      ],
      "text/plain": [
       "                              ID  Predicted_Label_model1  score_model1  \\\n",
       "0       5220 ZHANG XI HUI.nii.gz                       1      0.265349   \n",
       "1      xiesiyuan-MR039125.nii.gz                       1      0.323471   \n",
       "2      6620Zhang Xing Hui.nii.gz                       0      0.109538   \n",
       "3          4848 GU YUN LI.nii.gz                       0      0.064228   \n",
       "4     6321Zhang Guang Mei.nii.gz                       0      0.109095   \n",
       "..                           ...                     ...           ...   \n",
       "183         6285Zhou Ying.nii.gz                       0      0.069827   \n",
       "184  6561Zhang Zhong Zhen.nii.gz                       0      0.085846   \n",
       "185     6215Chen Yong Fen.nii.gz                       0      0.095251   \n",
       "186       6776Yuan Zi Ran.nii.gz                       0      0.067034   \n",
       "187    3821 WANG YAN HONG.nii.gz                       0      0.099250   \n",
       "\n",
       "     Predicted_Label_model2  score_model2  Predicted_Label_model3  \\\n",
       "0                         1      0.994467                       1   \n",
       "1                         1      0.998751                       1   \n",
       "2                         1      0.998546                       1   \n",
       "3                         1      0.932053                       1   \n",
       "4                         1      0.989805                       1   \n",
       "..                      ...           ...                     ...   \n",
       "183                       0      0.045154                       0   \n",
       "184                       0      0.043939                       0   \n",
       "185                       0      0.030498                       0   \n",
       "186                       0      0.043921                       0   \n",
       "187                       0      0.035838                       0   \n",
       "\n",
       "     score_model3  True_Label  final_prediction_score  final_prediction  \n",
       "0        0.882103           1                0.865373                 1  \n",
       "1        0.850467           1                0.857081                 1  \n",
       "2        0.861099           1                0.840922                 1  \n",
       "3        0.918730           1                0.838609                 1  \n",
       "4        0.858777           1                0.836220                 1  \n",
       "..            ...         ...                     ...               ...  \n",
       "183      0.021403           0                0.035746                 0  \n",
       "184      0.010223           0                0.031272                 0  \n",
       "185      0.015576           0                0.029512                 0  \n",
       "186      0.008061           0                0.028302                 0  \n",
       "187      0.005732           0                0.027126                 0  \n",
       "\n",
       "[188 rows x 10 columns]"
      ]
     },
     "execution_count": 42,
     "metadata": {},
     "output_type": "execute_result"
    }
   ],
   "source": [
    "import pandas as pd\n",
    "models_preds = pd.read_csv('val/DL_800_222/model_preds_final_pred.csv')\n",
    "models_preds"
   ]
  },
  {
   "cell_type": "code",
   "execution_count": 43,
   "id": "cc75a589",
   "metadata": {},
   "outputs": [],
   "source": [
    "# 假设有三个模型的预测标签和真实标签\n",
    "# 每个模型的预测标签：0代表错误预测，1代表正确预测\n",
    "true_labels = models_preds['True_Label']  # 真实标签\n",
    "predictions_model1 = models_preds['Predicted_Label_model1'] # 模型1的预测\n",
    "predictions_model2 = models_preds['Predicted_Label_model2']  # 模型2的预测\n",
    "predictions_model3 = models_preds['Predicted_Label_model3']  # 模型3的预测\n",
    "predictions_modelen = models_preds['final_prediction']  # 模型ensemble的预测"
   ]
  },
  {
   "cell_type": "code",
   "execution_count": 44,
   "id": "f4c51fab",
   "metadata": {},
   "outputs": [],
   "source": [
    "# 计算错误样本（预测错误的样本标签为0）\n",
    "errors_model1 = predictions_model1 != true_labels\n",
    "errors_model2 = predictions_model2 != true_labels\n",
    "errors_model3 = predictions_model3 != true_labels\n",
    "errors_modelen = predictions_modelen != true_labels"
   ]
  },
  {
   "cell_type": "code",
   "execution_count": 45,
   "id": "74ea8e5e",
   "metadata": {},
   "outputs": [],
   "source": [
    "# 计算三个模型错误样本的交集情况\n",
    "# 使用集合交集运算符 & 来计算每个模型错误样本的交集\n",
    "set_model1 = set(np.where(errors_model1)[0])\n",
    "set_model2 = set(np.where(errors_model2)[0])\n",
    "set_model3 = set(np.where(errors_model3)[0])\n",
    "set_modelen = set(np.where(errors_modelen)[0])\n"
   ]
  },
  {
   "cell_type": "code",
   "execution_count": 46,
   "id": "a5af701e",
   "metadata": {},
   "outputs": [
    {
     "data": {
      "text/plain": [
       "{2,\n",
       " 3,\n",
       " 4,\n",
       " 5,\n",
       " 6,\n",
       " 7,\n",
       " 10,\n",
       " 13,\n",
       " 14,\n",
       " 15,\n",
       " 22,\n",
       " 24,\n",
       " 27,\n",
       " 28,\n",
       " 29,\n",
       " 31,\n",
       " 32,\n",
       " 34,\n",
       " 38,\n",
       " 41,\n",
       " 44,\n",
       " 55,\n",
       " 60,\n",
       " 67,\n",
       " 76,\n",
       " 78,\n",
       " 80,\n",
       " 83,\n",
       " 96,\n",
       " 103,\n",
       " 121,\n",
       " 123,\n",
       " 131,\n",
       " 174}"
      ]
     },
     "execution_count": 46,
     "metadata": {},
     "output_type": "execute_result"
    }
   ],
   "source": [
    "set_model1"
   ]
  },
  {
   "cell_type": "code",
   "execution_count": 47,
   "id": "59a2a67f",
   "metadata": {},
   "outputs": [
    {
     "data": {
      "text/plain": [
       "{10,\n",
       " 13,\n",
       " 15,\n",
       " 16,\n",
       " 17,\n",
       " 18,\n",
       " 21,\n",
       " 23,\n",
       " 24,\n",
       " 25,\n",
       " 26,\n",
       " 27,\n",
       " 29,\n",
       " 30,\n",
       " 31,\n",
       " 32,\n",
       " 33,\n",
       " 35,\n",
       " 36,\n",
       " 37,\n",
       " 43,\n",
       " 44,\n",
       " 45,\n",
       " 46,\n",
       " 47,\n",
       " 48,\n",
       " 49,\n",
       " 50,\n",
       " 51,\n",
       " 52,\n",
       " 53,\n",
       " 54,\n",
       " 55,\n",
       " 56,\n",
       " 57,\n",
       " 58,\n",
       " 59,\n",
       " 61,\n",
       " 62,\n",
       " 63,\n",
       " 69,\n",
       " 70,\n",
       " 71,\n",
       " 72,\n",
       " 78,\n",
       " 82}"
      ]
     },
     "execution_count": 47,
     "metadata": {},
     "output_type": "execute_result"
    }
   ],
   "source": [
    "set_model2"
   ]
  },
  {
   "cell_type": "code",
   "execution_count": 48,
   "id": "b053b44f",
   "metadata": {},
   "outputs": [
    {
     "data": {
      "text/plain": [
       "{10,\n",
       " 13,\n",
       " 15,\n",
       " 16,\n",
       " 17,\n",
       " 18,\n",
       " 21,\n",
       " 23,\n",
       " 24,\n",
       " 25,\n",
       " 26,\n",
       " 28,\n",
       " 30,\n",
       " 34,\n",
       " 38,\n",
       " 39,\n",
       " 40,\n",
       " 41,\n",
       " 42,\n",
       " 46,\n",
       " 65,\n",
       " 66,\n",
       " 74,\n",
       " 85}"
      ]
     },
     "execution_count": 48,
     "metadata": {},
     "output_type": "execute_result"
    }
   ],
   "source": [
    "set_model3"
   ]
  },
  {
   "cell_type": "code",
   "execution_count": 49,
   "id": "9f2f7406",
   "metadata": {},
   "outputs": [
    {
     "data": {
      "text/plain": [
       "{10,\n",
       " 13,\n",
       " 15,\n",
       " 16,\n",
       " 17,\n",
       " 18,\n",
       " 21,\n",
       " 23,\n",
       " 24,\n",
       " 25,\n",
       " 26,\n",
       " 28,\n",
       " 29,\n",
       " 30,\n",
       " 32,\n",
       " 33,\n",
       " 34,\n",
       " 35,\n",
       " 36,\n",
       " 37,\n",
       " 40,\n",
       " 62,\n",
       " 78,\n",
       " 82}"
      ]
     },
     "execution_count": 49,
     "metadata": {},
     "output_type": "execute_result"
    }
   ],
   "source": [
    "set_modelen"
   ]
  },
  {
   "cell_type": "code",
   "execution_count": null,
   "id": "c14aeecf",
   "metadata": {},
   "outputs": [],
   "source": []
  }
 ],
 "metadata": {
  "kernelspec": {
   "display_name": "Python 3 (ipykernel)",
   "language": "python",
   "name": "python3"
  },
  "language_info": {
   "codemirror_mode": {
    "name": "ipython",
    "version": 3
   },
   "file_extension": ".py",
   "mimetype": "text/x-python",
   "name": "python",
   "nbconvert_exporter": "python",
   "pygments_lexer": "ipython3",
   "version": "3.7.12"
  }
 },
 "nbformat": 4,
 "nbformat_minor": 5
}
